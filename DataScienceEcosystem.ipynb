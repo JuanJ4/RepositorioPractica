{
 "cells": [
  {
   "cell_type": "markdown",
   "id": "5685d31e-df90-418f-aa46-62ea3e4f9aff",
   "metadata": {},
   "source": [
    "# Data Science Tools and Ecosystem"
   ]
  },
  {
   "cell_type": "markdown",
   "id": "3ba44f62-5af7-482c-99a0-563563f99d93",
   "metadata": {},
   "source": [
    "In this notebook, Data Science Tools and Ecosystem are summarized."
   ]
  },
  {
   "cell_type": "markdown",
   "id": "33ffa124-7aa8-4949-9a32-6a3c6460f052",
   "metadata": {},
   "source": [
    "**Objectives:**"
   ]
  },
  {
   "cell_type": "markdown",
   "id": "2245677d-6642-4aae-abc9-2633bdb0bb6c",
   "metadata": {},
   "source": [
    "- Crear un nuevo cuaderno de Python\n",
    "- Crear títulos con celdas markdown\n",
    "- Hacer listas ordenadas\n",
    "- Realizar operaciones aritméticas"
   ]
  },
  {
   "cell_type": "markdown",
   "id": "a497a9e4-e0f1-40a9-9e46-b8c12fd3c5c0",
   "metadata": {},
   "source": [
    "Some of the popular languages that Data Scientists use are:\n",
    "\n",
    "1. Python\n",
    "2. R\n",
    "3. Java\n",
    "4. Julia"
   ]
  },
  {
   "cell_type": "markdown",
   "id": "ed567fa1-f827-4ed1-8ab7-500da236d90e",
   "metadata": {},
   "source": [
    "Some of the commonly used libraries used by Data Scientists include:\n",
    "\n",
    "1. Pandas\n",
    "2. NumPy\n",
    "3. Scikit-learn"
   ]
  },
  {
   "cell_type": "markdown",
   "id": "481405e6-6063-4e9b-b1d3-dc7780471f7b",
   "metadata": {},
   "source": [
    "|Data Science Tools|\n",
    "-------------------|\n",
    "|Python            |\n",
    "|Hadoop            |\n",
    "|Apache Spark      |"
   ]
  },
  {
   "cell_type": "markdown",
   "id": "1999dd97-d7c9-4afb-9761-650d6b0d96d0",
   "metadata": {},
   "source": [
    "### Below are a few examples of evaluating arithmetic expressions in Python:"
   ]
  },
  {
   "cell_type": "markdown",
   "id": "878f2712-0187-475c-af88-49a336f2501d",
   "metadata": {},
   "source": [
    "This a simple arithmetic expression to multiply then add integers:"
   ]
  },
  {
   "cell_type": "code",
   "execution_count": 14,
   "id": "d5e3813e-f765-4b5b-b7d6-a6419910c6d7",
   "metadata": {},
   "outputs": [
    {
     "data": {
      "text/plain": [
       "17"
      ]
     },
     "execution_count": 14,
     "metadata": {},
     "output_type": "execute_result"
    }
   ],
   "source": [
    "(3*4)+5"
   ]
  },
  {
   "cell_type": "markdown",
   "id": "7683d23b-2773-4154-9023-5d413bc9ef2d",
   "metadata": {},
   "source": [
    "This will convert 200 minutes to hours by diving by 60:"
   ]
  },
  {
   "cell_type": "code",
   "execution_count": 17,
   "id": "63434ebf-41f1-4d1f-a528-e68593978782",
   "metadata": {},
   "outputs": [
    {
     "data": {
      "text/plain": [
       "3.3333333333333335"
      ]
     },
     "execution_count": 17,
     "metadata": {},
     "output_type": "execute_result"
    }
   ],
   "source": [
    "200/60"
   ]
  },
  {
   "cell_type": "markdown",
   "id": "41308f38-3f56-48de-8588-22efa37b9004",
   "metadata": {},
   "source": [
    "## Author\n",
    "Damián Medina"
   ]
  }
 ],
 "metadata": {
  "kernelspec": {
   "display_name": "Python 3 (ipykernel)",
   "language": "python",
   "name": "python3"
  },
  "language_info": {
   "codemirror_mode": {
    "name": "ipython",
    "version": 3
   },
   "file_extension": ".py",
   "mimetype": "text/x-python",
   "name": "python",
   "nbconvert_exporter": "python",
   "pygments_lexer": "ipython3",
   "version": "3.12.4"
  }
 },
 "nbformat": 4,
 "nbformat_minor": 5
}
